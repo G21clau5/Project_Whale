{
 "cells": [
  {
   "cell_type": "markdown",
   "id": "bd5c7f71",
   "metadata": {},
   "source": [
    "# The impact of human activity on biodiversity\n"
   ]
  },
  {
   "cell_type": "markdown",
   "id": "ec9620d5",
   "metadata": {},
   "source": [
    "## 1. Context and research question"
   ]
  },
  {
   "cell_type": "markdown",
   "id": "863dcd71",
   "metadata": {},
   "source": [
    "### Context\n",
    "\n",
    "### General introduction & Research question\n",
    "Research question: What is the human impact on biodiversity. -> Focusing on what is the impact of agricultural lands on tree cover loss.\n",
    "\n",
    "### Motivation\n",
    "* Why we picked this question/ why it matters\n",
    "* Why biodiversity matters?\n",
    "* Why is this question crucial? (Check literature review)\n",
    "* How do we contribute to already existing research?"
   ]
  },
  {
   "cell_type": "markdown",
   "id": "5f6dc1b7",
   "metadata": {},
   "source": [
    "## 2. Data sources and possible biases in the data\n",
    "\n",
    "To carry out this study, we used the percentage of agricultural land as an indicator of economic development. This approach is inspired by research from \"The World Bank Data\" (https://www.worldbank.org/en/topic/agriculture), illustrating the close link between agriculture and economic development: \"Agriculture can help reduce poverty, raise incomes and improve food security [...].\". The chosen independent variable, forest cover, is essential for its significant contribution to biodiversity. Indeed, according to [Brockerhoff, E.G., Barbaro, L., Castagneyrol, B. et al. Forest biodiversity, ecosystem functioning and the provision of ecosystem services. Biodivers Conserv 26, 3005–3035 (2017). https://doi.org/10.1007/s10531-017-1453-2], forests provide crucial habitat for many species, are the major source of food at the base and at each level of the food chain and are home to a great plant diversity.\n",
    "\n",
    "Our analysis also takes into account several control variables, such as population to represent urbanization, country area to measure the strength of the impact, forest fires to assess natural destruction, GDP for the level of development and technology, and distance from the equator for environmental factors.\n",
    "\n",
    "The data for this research mainly come from \"The World Bank Data\" [cite] database for the independent variable and the control variables. Measurements of distance to the equator are taken from Google's public database [cite], while information on forest fires is taken from \"Global Forest Watch\" [cite]. These data have been compiled into a single database, including information from 133 countries (see appendix for the detailed list) over the period 2001-2021. Observations are aggregated annually by country, thus providing a representative average(?).\n",
    "\n",
    "This analysis is limited by a 20-year time frame, which presents significant challenges for assessing economic growth comprehensively. Additionally, the absence of countries with common characteristics in the sample could hamper the generalizability of our results. Finally, a major concern is variable selection; for example, the emphasis on agricultural land expansion overlooks possible social and cultural disruptions that contribute negatively to economic development. Despite these drawbacks, the sample constitutes a viable basis for our study, while recognizing its potential limitations.\n",
    "\n",
    "ADD IMAGE\n",
    "\n",
    "Il y a une tendance globale de la couverture forestière à diminuer lors de ces 20 dernières années, tandis qu’il n’y en a pas vraiment pour les terres agricoles…\n"
   ]
  },
  {
   "cell_type": "markdown",
   "id": "f63c5a0a",
   "metadata": {},
   "source": [
    "## 3. Methodology\n",
    "\n",
    "* What we do to answer to our hypothesis (linear regression w/ controls & fixed effects)\n",
    "* DiD (what if there's a policy on agriculture impacting the relation between agricultural lands and forest cover)"
   ]
  },
  {
   "cell_type": "markdown",
   "id": "e8380556",
   "metadata": {},
   "source": [
    "## 4. Visual presentation of results\n",
    "\n"
   ]
  },
  {
   "cell_type": "markdown",
   "id": "25dd5e5c",
   "metadata": {},
   "source": [
    "## 5. Discussion on causality\n"
   ]
  },
  {
   "cell_type": "markdown",
   "id": "7aaa8716",
   "metadata": {},
   "source": [
    "## 6. Critical discussion of limitations and extensions\n"
   ]
  },
  {
   "cell_type": "markdown",
   "id": "945f9716",
   "metadata": {},
   "source": [
    "## 7. Annexe\n"
   ]
  },
  {
   "cell_type": "code",
   "execution_count": null,
   "id": "1e4243d6",
   "metadata": {},
   "outputs": [],
   "source": []
  }
 ],
 "metadata": {
  "kernelspec": {
   "display_name": "Python 3 (ipykernel)",
   "language": "python",
   "name": "python3"
  },
  "language_info": {
   "codemirror_mode": {
    "name": "ipython",
    "version": 3
   },
   "file_extension": ".py",
   "mimetype": "text/x-python",
   "name": "python",
   "nbconvert_exporter": "python",
   "pygments_lexer": "ipython3",
   "version": "3.11.4"
  }
 },
 "nbformat": 4,
 "nbformat_minor": 5
}
